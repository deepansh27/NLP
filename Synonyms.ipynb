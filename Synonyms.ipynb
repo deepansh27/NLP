{
 "cells": [
  {
   "cell_type": "markdown",
   "metadata": {},
   "source": [
    "Source: https://www.geeksforgeeks.org/get-synonymsantonyms-nltk-wordnet-python/\n",
    "\n",
    "WordNet: http://www.nltk.org/howto/wordnet.html"
   ]
  },
  {
   "cell_type": "markdown",
   "metadata": {},
   "source": [
    "### How to get synonyms/antonyms from NLTK WordNet in Python?\n",
    "WordNet is a large lexical database of English. Nouns, verbs, adjectives and adverbs are grouped into sets of cognitive synonyms (synsets), each expressing a distinct concept. Synsets are interlinked by means of conceptual-semantic and lexical relations.\n",
    "\n",
    "<b>WordNet’s structure makes it a useful tool for computational linguistics and natural language processing.</b>\n",
    "\n",
    "WordNet superficially resembles a thesaurus, in that it groups words together based on their meanings. However, there are some important distinctions.\n",
    "\n",
    "- First, WordNet interlinks not just word forms—strings of letters—but specific senses of words. As a result, words that are found in close proximity to one another in the network are semantically disambiguated.\n",
    "- Second, WordNet labels the semantic relations among words, whereas the groupings of words in a thesaurus does not follow any explicit pattern other than meaning similarity."
   ]
  },
  {
   "cell_type": "code",
   "execution_count": 3,
   "metadata": {},
   "outputs": [
    {
     "name": "stdout",
     "output_type": "stream",
     "text": [
      "broadcast.n.02\n",
      "programme\n",
      "a radio or television show\n",
      "['did you see his program last night?']\n"
     ]
    }
   ],
   "source": [
    "# First, you're going to need to import wordnet:\n",
    "from nltk.corpus import wordnet\n",
    "\n",
    "# Then, we are going to use the term \"program\" to find synsets like so:\n",
    "syns = wordnet.synsets(\"program\")\n",
    "\n",
    "# An example of a synset:\n",
    "print(syns[2].name())\n",
    "\n",
    "# Just the word:\n",
    "print(syns[2].lemmas()[2].name())\n",
    "\n",
    "# Defination of that first sysnetL\n",
    "print(syns[2].definition())\n",
    "\n",
    "# Examples of the word in use in sentences:\n",
    "print(syns[2].examples())"
   ]
  },
  {
   "cell_type": "code",
   "execution_count": 4,
   "metadata": {},
   "outputs": [
    {
     "name": "stdout",
     "output_type": "stream",
     "text": [
      "{'trade_good', 'right', 'well', 'estimable', 'in_effect', 'undecomposed', 'expert', 'adept', 'practiced', 'good', 'skillful', 'proficient', 'unspoiled', 'goodness', 'commodity', 'upright', 'soundly', 'honorable', 'full', 'serious', 'dear', 'effective', 'ripe', 'just', 'thoroughly', 'near', 'beneficial', 'unspoilt', 'dependable', 'secure', 'safe', 'salutary', 'honest', 'skilful', 'in_force', 'respectable', 'sound'}\n",
      "{'badness', 'bad', 'evilness', 'ill', 'evil'}\n"
     ]
    }
   ],
   "source": [
    "## Synonyms & Antomyms\n",
    "\n",
    "synonyms = []\n",
    "antonyms = []\n",
    "\n",
    "for syn in wordnet.synsets('good'):\n",
    "    for l in syn.lemmas():\n",
    "        synonyms.append(l.name())\n",
    "        if l.antonyms():\n",
    "            antonyms.append(l.antonyms()[0].name())\n",
    "print(set(synonyms))\n",
    "print(set(antonyms))"
   ]
  },
  {
   "cell_type": "code",
   "execution_count": 5,
   "metadata": {},
   "outputs": [
    {
     "name": "stdout",
     "output_type": "stream",
     "text": [
      "0.8571428571428571\n"
     ]
    }
   ],
   "source": [
    "## Comparing similarities index of two words\n",
    "\n",
    "w1 = wordnet.synset('run.v.01') # here v denotes tag for pos VERB\n",
    "w2 = wordnet.synset('sprint.v.01')\n",
    "print(w1.wup_similarity(w2))"
   ]
  },
  {
   "cell_type": "code",
   "execution_count": 6,
   "metadata": {},
   "outputs": [
    {
     "name": "stdout",
     "output_type": "stream",
     "text": [
      "0.9090909090909091\n"
     ]
    }
   ],
   "source": [
    "w1 = wordnet.synset('ship.n.01')\n",
    "w2 = wordnet.synset('boat.n.01')\n",
    "print(w1.wup_similarity(w2))"
   ]
  },
  {
   "cell_type": "code",
   "execution_count": null,
   "metadata": {},
   "outputs": [],
   "source": []
  }
 ],
 "metadata": {
  "kernelspec": {
   "display_name": "Python 3",
   "language": "python",
   "name": "python3"
  },
  "language_info": {
   "codemirror_mode": {
    "name": "ipython",
    "version": 3
   },
   "file_extension": ".py",
   "mimetype": "text/x-python",
   "name": "python",
   "nbconvert_exporter": "python",
   "pygments_lexer": "ipython3",
   "version": "3.6.4"
  }
 },
 "nbformat": 4,
 "nbformat_minor": 2
}
